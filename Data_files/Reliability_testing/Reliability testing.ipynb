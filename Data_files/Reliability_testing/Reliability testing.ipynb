{
 "cells": [
  {
   "cell_type": "markdown",
   "metadata": {},
   "source": [
    "\n",
    "# Reliability Testing Trigger Diagnostic tool"
   ]
  },
  {
   "cell_type": "code",
   "execution_count": null,
   "metadata": {
    "vscode": {
     "languageId": "plaintext"
    }
   },
   "outputs": [],
   "source": [
    "import pandas as pd\n",
    "from datetime import datetime"
   ]
  },
  {
   "cell_type": "code",
   "execution_count": null,
   "metadata": {
    "vscode": {
     "languageId": "plaintext"
    }
   },
   "outputs": [],
   "source": [
    "\n",
    "\n",
    "# Sample log data\n",
    "log_data = \"\"\"2021-01-01 10:03:00::high::36179721\n",
    "2021-01-01 10:03:01::low::36180225\"\"\"\n",
    "\n",
    "# Split the log data into lines\n",
    "lines = log_data.split('\\n')\n",
    "\n",
    "# Initialize lists to store the parsed data\n",
    "high_timestamps = []\n",
    "low_timestamps = []\n",
    "trigger_lengths = []\n",
    "time_since_previous_triggers = []\n",
    "\n",
    "# Initialize variables to keep track of previous timestamps and values\n",
    "previous_low_timestamp = None\n",
    "previous_value = None\n",
    "\n",
    "# Iterate over the lines and parse the data\n",
    "for line in lines:\n",
    "    timestamp_str, trigger, value_str = line.split('::')\n",
    "    timestamp = datetime.strptime(timestamp_str, '%Y-%m-%d %H:%M:%S')\n",
    "    value = int(value_str)\n",
    "    \n",
    "    if trigger == 'high':\n",
    "        high_timestamps.append(timestamp)\n",
    "        if previous_low_timestamp is not None:\n",
    "            trigger_length = value - previous_value\n",
    "            trigger_lengths.append(trigger_length)\n",
    "            time_since_previous_trigger = (timestamp - previous_low_timestamp).total_seconds()\n",
    "            time_since_previous_triggers.append(time_since_previous_trigger)\n",
    "        else:\n",
    "            trigger_lengths.append(None)\n",
    "            time_since_previous_triggers.append(None)\n",
    "    elif trigger == 'low':\n",
    "        low_timestamps.append(timestamp)\n",
    "        previous_low_timestamp = timestamp\n",
    "        previous_value = value\n",
    "\n",
    "# Create a DataFrame from the parsed data\n",
    "df = pd.DataFrame({\n",
    "    'trigger high timestamp': high_timestamps,\n",
    "    'trigger low timestamp': low_timestamps,\n",
    "    'trigger length': trigger_lengths,\n",
    "    'time since previous trigger': time_since_previous_triggers\n",
    "})\n",
    "\n",
    "print(df)"
   ]
  }
 ],
 "metadata": {
  "language_info": {
   "name": "python"
  }
 },
 "nbformat": 4,
 "nbformat_minor": 2
}
