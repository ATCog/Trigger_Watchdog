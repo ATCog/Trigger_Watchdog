{
 "cells": [
  {
   "cell_type": "markdown",
   "metadata": {},
   "source": [
    "\n",
    "# Reliability Testing Trigger Diagnostic tool"
   ]
  },
  {
   "cell_type": "code",
   "execution_count": 1,
   "metadata": {},
   "outputs": [
    {
     "name": "stderr",
     "output_type": "stream",
     "text": [
      "C:\\Users\\athompso\\AppData\\Local\\Temp\\ipykernel_38496\\1524203933.py:1: DeprecationWarning: \n",
      "Pyarrow will become a required dependency of pandas in the next major release of pandas (pandas 3.0),\n",
      "(to allow more performant data types, such as the Arrow string type, and better interoperability with other libraries)\n",
      "but was not found to be installed on your system.\n",
      "If this would cause problems for you,\n",
      "please provide us feedback at https://github.com/pandas-dev/pandas/issues/54466\n",
      "        \n",
      "  import pandas as pd\n"
     ]
    }
   ],
   "source": [
    "import pandas as pd\n",
    "from datetime import datetime"
   ]
  },
  {
   "cell_type": "markdown",
   "metadata": {},
   "source": [
    "\n",
    "## Testing Reliability at 1HZ, 50% duty"
   ]
  },
  {
   "cell_type": "code",
   "execution_count": 6,
   "metadata": {},
   "outputs": [],
   "source": [
    "# Read the log data from the file\n",
    "with open('1hz_50percent_test.txt', 'r') as file:\n",
    "    log_data = file.read()\n",
    "\n",
    "# sample data format:\n",
    "# 2021-01-01 10:03:00::high::36179721\n",
    "# 2021-01-01 10:03:01::low::36180225\n",
    "\n",
    "# Split the log data into lines\n",
    "lines = log_data.split('\\n')"
   ]
  },
  {
   "cell_type": "code",
   "execution_count": 10,
   "metadata": {},
   "outputs": [
    {
     "name": "stdout",
     "output_type": "stream",
     "text": [
      "Warning: Consecutive 'high' triggers found at rows 1485 and 1486\n",
      "Warning: Consecutive 'low' triggers found at rows 4917 and 4918\n",
      "Warning: Consecutive 'low' triggers found at rows 11570 and 11571\n",
      "Warning: Consecutive 'low' triggers found at rows 14731 and 14732\n",
      "Warning: Consecutive 'high' triggers found at rows 14835 and 14836\n",
      "Warning: Consecutive 'high' triggers found at rows 16176 and 16177\n",
      "Warning: Consecutive 'high' triggers found at rows 34191 and 34192\n",
      "Warning: Consecutive 'low' triggers found at rows 34655 and 34656\n",
      "Warning: Consecutive 'low' triggers found at rows 34878 and 34879\n",
      "Warning: Consecutive 'high' triggers found at rows 36018 and 36019\n",
      "Warning: Consecutive 'high' triggers found at rows 36659 and 36660\n",
      "Warning: Consecutive 'high' triggers found at rows 46950 and 46951\n",
      "Warning: Consecutive 'high' triggers found at rows 52763 and 52764\n",
      "Warning: Consecutive 'high' triggers found at rows 54038 and 54039\n",
      "Warning: Consecutive 'low' triggers found at rows 57498 and 57499\n",
      "Warning: Consecutive 'low' triggers found at rows 59541 and 59542\n",
      "Warning: Consecutive 'low' triggers found at rows 59680 and 59681\n",
      "Warning: Consecutive 'high' triggers found at rows 62042 and 62043\n",
      "Warning: Consecutive 'high' triggers found at rows 62499 and 62500\n",
      "Warning: Consecutive 'low' triggers found at rows 71717 and 71718\n",
      "Total number of triggers skipped: 20\n"
     ]
    }
   ],
   "source": [
    "# Initialize lists to store the parsed data\n",
    "timestamps = []\n",
    "trigger_states = []\n",
    "times = []\n",
    "\n",
    "# Initialize a variable to keep track of the previous trigger state\n",
    "previous_trigger = None\n",
    "\n",
    "# Initialize a counter for skipped triggers\n",
    "skipped_triggers = 0\n",
    "\n",
    "# Iterate over the lines and parse the data\n",
    "for idx, line in enumerate(lines):\n",
    "    if line.strip():  # Check if the line is not empty\n",
    "        timestamp_str, trigger, value_str = line.split('::')\n",
    "        timestamp = datetime.strptime(timestamp_str, '%Y-%m-%d %H:%M:%S')\n",
    "        value = int(value_str)\n",
    "        \n",
    "        # Check if the current trigger state is the same as the previous one\n",
    "        if previous_trigger is not None and previous_trigger == trigger:\n",
    "            print(f\"Warning: Consecutive '{trigger}' triggers found at rows {idx} and {idx+1}\")\n",
    "            skipped_triggers += 1\n",
    "            if trigger == 'high':\n",
    "                # Remove the previous 'high' trigger from the lists\n",
    "                timestamps.pop()\n",
    "                trigger_states.pop()\n",
    "                times.pop()\n",
    "            continue\n",
    "        \n",
    "        timestamps.append(timestamp)\n",
    "        trigger_states.append(trigger)\n",
    "        times.append(value)\n",
    "        \n",
    "        previous_trigger = trigger\n",
    "\n",
    "# Create a DataFrame from the parsed data\n",
    "df = pd.DataFrame({\n",
    "    'timestamp': timestamps,\n",
    "    'trigger state': trigger_states,\n",
    "    'time (ms)': times\n",
    "})\n",
    "\n",
    "# Initialize lists to store the new DataFrame data\n",
    "high_timestamps = []\n",
    "low_timestamps = []\n",
    "trigger_lengths = []\n",
    "time_since_previous_triggers = []\n",
    "\n",
    "# Initialize variables to keep track of previous timestamps and values\n",
    "previous_low_time = None\n",
    "\n",
    "# Iterate over the DataFrame and create the new DataFrame\n",
    "for i in range(0, len(df) - 1, 2):\n",
    "    high_timestamp = df.iloc[i]['timestamp']\n",
    "    low_timestamp = df.iloc[i+1]['timestamp']\n",
    "    trigger_length = df.iloc[i+1]['time (ms)'] - df.iloc[i]['time (ms)']\n",
    "    \n",
    "    if previous_low_time is not None:\n",
    "        time_since_previous_trigger = df.iloc[i]['time (ms)'] - previous_low_time\n",
    "    else:\n",
    "        time_since_previous_trigger = None\n",
    "    \n",
    "    high_timestamps.append(high_timestamp)\n",
    "    low_timestamps.append(low_timestamp)\n",
    "    trigger_lengths.append(trigger_length)\n",
    "    time_since_previous_triggers.append(time_since_previous_trigger)\n",
    "    \n",
    "    previous_low_time = df.iloc[i+1]['time (ms)']\n",
    "\n",
    "# Create the new DataFrame\n",
    "new_df = pd.DataFrame({\n",
    "    'trigger high timestamp': high_timestamps,\n",
    "    'trigger low timestamp': low_timestamps,\n",
    "    'trigger length': trigger_lengths,\n",
    "    'time since previous trigger': time_since_previous_triggers\n",
    "})\n",
    "\n",
    "# print(new_df)\n",
    "print(f\"Total number of triggers skipped: {skipped_triggers}\")\n"
   ]
  },
  {
   "cell_type": "code",
   "execution_count": 11,
   "metadata": {},
   "outputs": [
    {
     "name": "stdout",
     "output_type": "stream",
     "text": [
      "      trigger high timestamp trigger low timestamp  trigger length  \\\n",
      "0        2021-01-01 00:00:05   2021-01-01 00:00:06             503   \n",
      "1        2021-01-01 00:00:06   2021-01-01 00:00:07             503   \n",
      "2        2021-01-01 00:00:07   2021-01-01 00:00:08             503   \n",
      "3        2021-01-01 00:00:08   2021-01-01 00:00:09             503   \n",
      "4        2021-01-01 00:00:09   2021-01-01 00:00:10             503   \n",
      "...                      ...                   ...             ...   \n",
      "35883    2021-01-01 10:05:03   2021-01-01 10:05:03             503   \n",
      "35884    2021-01-01 10:05:04   2021-01-01 10:05:04             503   \n",
      "35885    2021-01-01 10:05:05   2021-01-01 10:05:05             503   \n",
      "35886    2021-01-01 10:05:06   2021-01-01 10:05:06             503   \n",
      "35887    2021-01-01 10:05:07   2021-01-01 10:05:07             503   \n",
      "\n",
      "       time since previous trigger  \n",
      "0                              NaN  \n",
      "1                            503.0  \n",
      "2                            504.0  \n",
      "3                            503.0  \n",
      "4                            504.0  \n",
      "...                            ...  \n",
      "35883                        504.0  \n",
      "35884                        503.0  \n",
      "35885                        504.0  \n",
      "35886                        503.0  \n",
      "35887                        504.0  \n",
      "\n",
      "[35888 rows x 4 columns]\n"
     ]
    }
   ],
   "source": [
    "print(new_df)"
   ]
  },
  {
   "cell_type": "code",
   "execution_count": 13,
   "metadata": {},
   "outputs": [
    {
     "data": {
      "text/html": [
       "<div>\n",
       "<style scoped>\n",
       "    .dataframe tbody tr th:only-of-type {\n",
       "        vertical-align: middle;\n",
       "    }\n",
       "\n",
       "    .dataframe tbody tr th {\n",
       "        vertical-align: top;\n",
       "    }\n",
       "\n",
       "    .dataframe thead th {\n",
       "        text-align: right;\n",
       "    }\n",
       "</style>\n",
       "<table border=\"1\" class=\"dataframe\">\n",
       "  <thead>\n",
       "    <tr style=\"text-align: right;\">\n",
       "      <th></th>\n",
       "      <th>trigger high timestamp</th>\n",
       "      <th>trigger low timestamp</th>\n",
       "      <th>trigger length</th>\n",
       "      <th>time since previous trigger</th>\n",
       "    </tr>\n",
       "  </thead>\n",
       "  <tbody>\n",
       "    <tr>\n",
       "      <th>count</th>\n",
       "      <td>35888</td>\n",
       "      <td>35888</td>\n",
       "      <td>35888.000000</td>\n",
       "      <td>35887.000000</td>\n",
       "    </tr>\n",
       "    <tr>\n",
       "      <th>mean</th>\n",
       "      <td>2021-01-01 05:02:30.346772992</td>\n",
       "      <td>2021-01-01 05:02:30.851454464</td>\n",
       "      <td>506.183181</td>\n",
       "      <td>505.367710</td>\n",
       "    </tr>\n",
       "    <tr>\n",
       "      <th>min</th>\n",
       "      <td>2021-01-01 00:00:05</td>\n",
       "      <td>2021-01-01 00:00:06</td>\n",
       "      <td>100.000000</td>\n",
       "      <td>154.000000</td>\n",
       "    </tr>\n",
       "    <tr>\n",
       "      <th>25%</th>\n",
       "      <td>2021-01-01 02:31:17.750000128</td>\n",
       "      <td>2021-01-01 02:31:18.750000128</td>\n",
       "      <td>503.000000</td>\n",
       "      <td>503.000000</td>\n",
       "    </tr>\n",
       "    <tr>\n",
       "      <th>50%</th>\n",
       "      <td>2021-01-01 05:02:25.500000</td>\n",
       "      <td>2021-01-01 05:02:26.500000</td>\n",
       "      <td>503.000000</td>\n",
       "      <td>503.000000</td>\n",
       "    </tr>\n",
       "    <tr>\n",
       "      <th>75%</th>\n",
       "      <td>2021-01-01 07:33:35.249999872</td>\n",
       "      <td>2021-01-01 07:33:35.249999872</td>\n",
       "      <td>503.000000</td>\n",
       "      <td>504.000000</td>\n",
       "    </tr>\n",
       "    <tr>\n",
       "      <th>max</th>\n",
       "      <td>2021-01-01 10:05:07</td>\n",
       "      <td>2021-01-01 10:05:07</td>\n",
       "      <td>8053.000000</td>\n",
       "      <td>8052.000000</td>\n",
       "    </tr>\n",
       "    <tr>\n",
       "      <th>std</th>\n",
       "      <td>NaN</td>\n",
       "      <td>NaN</td>\n",
       "      <td>115.393391</td>\n",
       "      <td>101.868186</td>\n",
       "    </tr>\n",
       "  </tbody>\n",
       "</table>\n",
       "</div>"
      ],
      "text/plain": [
       "              trigger high timestamp          trigger low timestamp  \\\n",
       "count                          35888                          35888   \n",
       "mean   2021-01-01 05:02:30.346772992  2021-01-01 05:02:30.851454464   \n",
       "min              2021-01-01 00:00:05            2021-01-01 00:00:06   \n",
       "25%    2021-01-01 02:31:17.750000128  2021-01-01 02:31:18.750000128   \n",
       "50%       2021-01-01 05:02:25.500000     2021-01-01 05:02:26.500000   \n",
       "75%    2021-01-01 07:33:35.249999872  2021-01-01 07:33:35.249999872   \n",
       "max              2021-01-01 10:05:07            2021-01-01 10:05:07   \n",
       "std                              NaN                            NaN   \n",
       "\n",
       "       trigger length  time since previous trigger  \n",
       "count    35888.000000                 35887.000000  \n",
       "mean       506.183181                   505.367710  \n",
       "min        100.000000                   154.000000  \n",
       "25%        503.000000                   503.000000  \n",
       "50%        503.000000                   503.000000  \n",
       "75%        503.000000                   504.000000  \n",
       "max       8053.000000                  8052.000000  \n",
       "std        115.393391                   101.868186  "
      ]
     },
     "execution_count": 13,
     "metadata": {},
     "output_type": "execute_result"
    }
   ],
   "source": [
    "new_df.describe()"
   ]
  },
  {
   "cell_type": "code",
   "execution_count": 15,
   "metadata": {},
   "outputs": [
    {
     "name": "stdout",
     "output_type": "stream",
     "text": [
      "30\n"
     ]
    }
   ],
   "source": [
    "print(len(new_df[new_df['trigger length'] > 600]))"
   ]
  },
  {
   "cell_type": "markdown",
   "metadata": {},
   "source": [
    "**Observations**\n",
    "- a number of trigger events were missed in the logs, shown by the 30 lines with trigger lengths above 600, most with times in the 1000's. \n",
    "- changes: \n",
    "    - increase pico clock speed\n",
    "    - switch to mqtt data transfer\n",
    "    - if needed after mqtt, implement redundant logging and data transfer check with retry if fail\n",
    "    "
   ]
  }
 ],
 "metadata": {
  "kernelspec": {
   "display_name": "Python 3",
   "language": "python",
   "name": "python3"
  },
  "language_info": {
   "codemirror_mode": {
    "name": "ipython",
    "version": 3
   },
   "file_extension": ".py",
   "mimetype": "text/x-python",
   "name": "python",
   "nbconvert_exporter": "python",
   "pygments_lexer": "ipython3",
   "version": "3.11.3"
  }
 },
 "nbformat": 4,
 "nbformat_minor": 2
}
